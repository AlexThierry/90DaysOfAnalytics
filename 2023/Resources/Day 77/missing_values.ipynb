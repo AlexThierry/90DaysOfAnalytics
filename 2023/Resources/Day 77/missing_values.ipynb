{
 "cells": [
  {
   "attachments": {},
   "cell_type": "markdown",
   "id": "6d840b6e",
   "metadata": {},
   "source": [
    "# Missing data"
   ]
  },
  {
   "cell_type": "code",
   "execution_count": null,
   "id": "ca040f7f",
   "metadata": {},
   "outputs": [],
   "source": [
    "import pandas as pd"
   ]
  },
  {
   "cell_type": "code",
   "execution_count": null,
   "id": "15c02815",
   "metadata": {},
   "outputs": [],
   "source": [
    "df = pd.read_csv(\"store_data.csv\")\n",
    "\n",
    "df"
   ]
  },
  {
   "cell_type": "code",
   "execution_count": null,
   "id": "ccdb64d6",
   "metadata": {},
   "outputs": [],
   "source": [
    "df.set_index('day', inplace = True)"
   ]
  },
  {
   "cell_type": "code",
   "execution_count": null,
   "id": "f5220f8d",
   "metadata": {},
   "outputs": [],
   "source": [
    "df"
   ]
  },
  {
   "cell_type": "code",
   "execution_count": null,
   "id": "dfafe5e3",
   "metadata": {},
   "outputs": [],
   "source": [
    "# fillna\n",
    "new_df = df.fillna(0)\n",
    "\n",
    "new_df"
   ]
  },
  {
   "cell_type": "code",
   "execution_count": null,
   "id": "e831ef60",
   "metadata": {},
   "outputs": [],
   "source": [
    "new_df = df.fillna({\n",
    "    'visitors': 0,\n",
    "    'units_sold': 0,\n",
    "    'sex': 'None provided'\n",
    "})\n",
    "\n",
    "new_df"
   ]
  },
  {
   "cell_type": "code",
   "execution_count": null,
   "id": "b3fb804b",
   "metadata": {},
   "outputs": [],
   "source": [
    "# dropna\n",
    "new_df = df.dropna()\n",
    "new_df"
   ]
  },
  {
   "cell_type": "code",
   "execution_count": null,
   "id": "69575ed7",
   "metadata": {},
   "outputs": [],
   "source": [
    "# dropna\n",
    "new_df = df.dropna(thresh=1)\n",
    "new_df"
   ]
  },
  {
   "cell_type": "code",
   "execution_count": null,
   "id": "d3acdd46",
   "metadata": {},
   "outputs": [],
   "source": [
    "# dropna\n",
    "new_df = df.dropna(thresh=2)\n",
    "new_df"
   ]
  },
  {
   "cell_type": "code",
   "execution_count": null,
   "id": "c70e6b53",
   "metadata": {},
   "outputs": [],
   "source": [
    "# replace\n",
    "import numpy as np"
   ]
  },
  {
   "cell_type": "code",
   "execution_count": null,
   "id": "93f50c48",
   "metadata": {},
   "outputs": [],
   "source": [
    "df = pd.read_csv(\"store_data2.csv\")\n",
    "df"
   ]
  },
  {
   "cell_type": "code",
   "execution_count": null,
   "id": "cd46f42e",
   "metadata": {},
   "outputs": [],
   "source": [
    "df2 = df.replace(111111, value=np.NaN)\n",
    "df2"
   ]
  },
  {
   "cell_type": "code",
   "execution_count": null,
   "id": "317b7415",
   "metadata": {},
   "outputs": [],
   "source": [
    "new_df = df.replace({\n",
    "    'visitors': 111111,\n",
    "    'units_sold': 111111,\n",
    "    'sex': '0'\n",
    "}, np.nan)\n",
    "\n",
    "new_df"
   ]
  },
  {
   "cell_type": "code",
   "execution_count": null,
   "id": "f5c49d2f",
   "metadata": {},
   "outputs": [],
   "source": []
  }
 ],
 "metadata": {
  "kernelspec": {
   "display_name": "Python 3 (ipykernel)",
   "language": "python",
   "name": "python3"
  },
  "language_info": {
   "codemirror_mode": {
    "name": "ipython",
    "version": 3
   },
   "file_extension": ".py",
   "mimetype": "text/x-python",
   "name": "python",
   "nbconvert_exporter": "python",
   "pygments_lexer": "ipython3",
   "version": "3.10.9"
  }
 },
 "nbformat": 4,
 "nbformat_minor": 5
}
