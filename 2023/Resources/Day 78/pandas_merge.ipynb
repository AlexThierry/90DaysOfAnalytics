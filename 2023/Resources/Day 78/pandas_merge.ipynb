{
 "cells": [
  {
   "attachments": {},
   "cell_type": "markdown",
   "id": "6d840b6e",
   "metadata": {},
   "source": [
    "# <font color=\"green\"><h3 align=\"center\">Pandas Merge</h3></font>"
   ]
  },
  {
   "cell_type": "code",
   "execution_count": null,
   "id": "ca040f7f",
   "metadata": {},
   "outputs": [],
   "source": [
    "import pandas as pd\n",
    "df1 = pd.DataFrame({\n",
    "    \"staff_id\": [\"EMP001\",\"EMP002\",\"EMP003\"],\n",
    "    \"age\": [31,24,40],\n",
    "})\n",
    "df1"
   ]
  },
  {
   "cell_type": "code",
   "execution_count": null,
   "id": "c88a16fe",
   "metadata": {},
   "outputs": [],
   "source": [
    "df2 = pd.DataFrame({\n",
    "   \"staff_id\": [\"EMP002\",\"EMP001\",\"EMP003\"],\n",
    "    \"salary\": [60000,90000,100000], \n",
    "})\n",
    "df2"
   ]
  },
  {
   "cell_type": "code",
   "execution_count": null,
   "id": "78d1070a",
   "metadata": {},
   "outputs": [],
   "source": [
    "df3 = pd.merge(df1,df2, on=\"staff_id\")"
   ]
  },
  {
   "cell_type": "code",
   "execution_count": null,
   "id": "ded21490",
   "metadata": {},
   "outputs": [],
   "source": [
    "df3"
   ]
  },
  {
   "cell_type": "code",
   "execution_count": null,
   "id": "ffcd781e",
   "metadata": {},
   "outputs": [],
   "source": [
    "df1 = pd.DataFrame({\n",
    "    \"staff_id\": [\"EMP001\",\"EMP002\",\"EMP003\",\"EMP008\"],\n",
    "    \"age\": [31,24,40, 50],\n",
    "})\n",
    "df1"
   ]
  },
  {
   "cell_type": "code",
   "execution_count": null,
   "id": "29f44610",
   "metadata": {},
   "outputs": [],
   "source": [
    "df2 = pd.DataFrame({\n",
    "   \"staff_id\": [\"EMP002\",\"EMP001\",\"EMP003\"],\n",
    "    \"age\": [50,72,81], \n",
    "})\n",
    "df2"
   ]
  },
  {
   "cell_type": "code",
   "execution_count": null,
   "id": "a862c9b8",
   "metadata": {},
   "outputs": [],
   "source": [
    "df3 = pd.merge(df1,df2, on=\"staff_id\", how=\"inner\")\n",
    "df3"
   ]
  },
  {
   "cell_type": "code",
   "execution_count": null,
   "id": "dc5e3253",
   "metadata": {},
   "outputs": [],
   "source": [
    "df3 = pd.merge(df1,df2, on=\"staff_id\", how=\"outer\")\n",
    "df3"
   ]
  },
  {
   "cell_type": "code",
   "execution_count": null,
   "id": "10ecb7ee",
   "metadata": {},
   "outputs": [],
   "source": [
    "df3 = pd.merge(df1,df2, on=\"staff_id\", how=\"left\")\n",
    "df3"
   ]
  },
  {
   "cell_type": "code",
   "execution_count": null,
   "id": "8ac75e22",
   "metadata": {},
   "outputs": [],
   "source": [
    "df3 = pd.merge(df1,df2, on=\"staff_id\", how=\"right\")\n",
    "df3"
   ]
  },
  {
   "cell_type": "code",
   "execution_count": null,
   "id": "abbf69a1",
   "metadata": {},
   "outputs": [],
   "source": [
    "df3 = pd.merge(df1,df2, on=\"staff_id\", how=\"outer\", indicator = True)\n",
    "df3"
   ]
  },
  {
   "cell_type": "code",
   "execution_count": null,
   "id": "0f707d57",
   "metadata": {},
   "outputs": [],
   "source": []
  }
 ],
 "metadata": {
  "kernelspec": {
   "display_name": "Python 3 (ipykernel)",
   "language": "python",
   "name": "python3"
  },
  "language_info": {
   "codemirror_mode": {
    "name": "ipython",
    "version": 3
   },
   "file_extension": ".py",
   "mimetype": "text/x-python",
   "name": "python",
   "nbconvert_exporter": "python",
   "pygments_lexer": "ipython3",
   "version": "3.10.9"
  }
 },
 "nbformat": 4,
 "nbformat_minor": 5
}
