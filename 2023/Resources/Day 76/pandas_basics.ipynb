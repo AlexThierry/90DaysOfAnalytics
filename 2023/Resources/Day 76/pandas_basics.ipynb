{
 "cells": [
  {
   "attachments": {},
   "cell_type": "markdown",
   "id": "6d840b6e",
   "metadata": {},
   "source": [
    "# Pandas basics"
   ]
  },
  {
   "cell_type": "code",
   "execution_count": null,
   "id": "ca040f7f",
   "metadata": {},
   "outputs": [],
   "source": [
    "import pandas as pd"
   ]
  },
  {
   "cell_type": "code",
   "execution_count": null,
   "id": "66002caf",
   "metadata": {},
   "outputs": [],
   "source": [
    " # From Turple List\n",
    "store_data = [\n",
    "    ('1/1/2023',40,10,'Male'),\n",
    "    ('1/2/2023',55,12,'Female'),\n",
    "    ('1/3/2023',48,13,'Female'),\n",
    "]\n",
    "df = pd.DataFrame(data=store_data, columns=['day','visitors','units_sold','sex'])\n",
    "print(df)"
   ]
  },
  {
   "cell_type": "code",
   "execution_count": null,
   "id": "2055602c",
   "metadata": {},
   "outputs": [],
   "source": [
    "# From Dictionary\n",
    "store_data = {\n",
    "    'day': ['1/1/2023','1/2/2023','1/3/2023','1/4/2023','1/5/2023','1/6/2023'],\n",
    "    'visitors': [32,35,28,24,32,31],\n",
    "    'units_sold': [6,7,2,7,4,2],\n",
    "    'sex': ['Male', 'Female', 'Female','Female','Male', 'Female']\n",
    "}\n",
    "df = pd.DataFrame(store_data)\n",
    "df"
   ]
  },
  {
   "cell_type": "code",
   "execution_count": null,
   "id": "63c8cfaf",
   "metadata": {},
   "outputs": [],
   "source": [
    "# From CSV\n",
    "df = pd.read_csv(\"store_data.csv\")\n",
    "\n",
    "df"
   ]
  },
  {
   "cell_type": "code",
   "execution_count": null,
   "id": "4087981b",
   "metadata": {},
   "outputs": [],
   "source": [
    "# From Excel\n",
    "df = pd.read_excel(\"store_data.xlsx\",\"sheet1\")\n",
    "\n",
    "df"
   ]
  },
  {
   "cell_type": "code",
   "execution_count": null,
   "id": "95b1d73e",
   "metadata": {},
   "outputs": [],
   "source": [
    "df.shape"
   ]
  },
  {
   "cell_type": "code",
   "execution_count": null,
   "id": "0dfc38ef",
   "metadata": {},
   "outputs": [],
   "source": [
    "df.head(2)"
   ]
  },
  {
   "cell_type": "code",
   "execution_count": null,
   "id": "7c393378",
   "metadata": {},
   "outputs": [],
   "source": [
    "df.tail(3)"
   ]
  },
  {
   "cell_type": "code",
   "execution_count": null,
   "id": "02248f2f",
   "metadata": {},
   "outputs": [],
   "source": [
    "df[3:6]"
   ]
  },
  {
   "cell_type": "code",
   "execution_count": null,
   "id": "9b0f678f",
   "metadata": {},
   "outputs": [],
   "source": [
    "type(df['visitors'])"
   ]
  },
  {
   "cell_type": "code",
   "execution_count": null,
   "id": "4924a587",
   "metadata": {},
   "outputs": [],
   "source": [
    "type(df)"
   ]
  },
  {
   "cell_type": "code",
   "execution_count": null,
   "id": "5e108581",
   "metadata": {},
   "outputs": [],
   "source": [
    "df[['day','visitors','sex']]"
   ]
  },
  {
   "cell_type": "code",
   "execution_count": null,
   "id": "91f39697",
   "metadata": {},
   "outputs": [],
   "source": [
    "df['visitors'].max()"
   ]
  },
  {
   "cell_type": "code",
   "execution_count": null,
   "id": "061a0696",
   "metadata": {},
   "outputs": [],
   "source": [
    "df['visitors'].min()"
   ]
  },
  {
   "cell_type": "code",
   "execution_count": null,
   "id": "e7199f51",
   "metadata": {},
   "outputs": [],
   "source": [
    "df['visitors'] > 32"
   ]
  },
  {
   "cell_type": "code",
   "execution_count": null,
   "id": "ac812f82",
   "metadata": {},
   "outputs": [],
   "source": [
    "df[df['visitors'] > 32]"
   ]
  },
  {
   "cell_type": "code",
   "execution_count": null,
   "id": "589b3013",
   "metadata": {},
   "outputs": [],
   "source": [
    "df[df['sex'] == \"Male\"]"
   ]
  },
  {
   "cell_type": "code",
   "execution_count": null,
   "id": "9c601737",
   "metadata": {},
   "outputs": [],
   "source": [
    "df.visitors.describe()"
   ]
  },
  {
   "cell_type": "code",
   "execution_count": null,
   "id": "2d3e3a37",
   "metadata": {},
   "outputs": [],
   "source": [
    "# From CSV\n",
    "df = pd.read_csv(\"store_data.csv\")\n",
    "\n",
    "df"
   ]
  },
  {
   "cell_type": "code",
   "execution_count": null,
   "id": "97e2d4d5",
   "metadata": {},
   "outputs": [],
   "source": [
    "df.set.index('day')"
   ]
  },
  {
   "cell_type": "code",
   "execution_count": null,
   "id": "ada15ead",
   "metadata": {},
   "outputs": [],
   "source": [
    "df"
   ]
  },
  {
   "cell_type": "code",
   "execution_count": null,
   "id": "ae0d0a93",
   "metadata": {},
   "outputs": [],
   "source": [
    "df.set.index('day', inplace=True)"
   ]
  },
  {
   "cell_type": "code",
   "execution_count": null,
   "id": "57481902",
   "metadata": {},
   "outputs": [],
   "source": [
    "df.index"
   ]
  },
  {
   "cell_type": "code",
   "execution_count": null,
   "id": "a9d72cc4",
   "metadata": {},
   "outputs": [],
   "source": [
    "df.loc['1/2/2023']"
   ]
  },
  {
   "cell_type": "code",
   "execution_count": null,
   "id": "da4e7fba",
   "metadata": {},
   "outputs": [],
   "source": [
    "df.reset_index(inplace = True)"
   ]
  },
  {
   "cell_type": "code",
   "execution_count": null,
   "id": "8756c2d8",
   "metadata": {},
   "outputs": [],
   "source": [
    "df"
   ]
  },
  {
   "cell_type": "code",
   "execution_count": null,
   "id": "9787438e",
   "metadata": {},
   "outputs": [],
   "source": [
    "#write to csv\n",
    "df.to_csv(\"store2.csv\", index = False)"
   ]
  },
  {
   "cell_type": "code",
   "execution_count": null,
   "id": "55356186",
   "metadata": {},
   "outputs": [],
   "source": [
    "#write to excel\n",
    "df.to_excel(\"store2.xlsx\", index = False)"
   ]
  }
 ],
 "metadata": {
  "kernelspec": {
   "display_name": "Python 3 (ipykernel)",
   "language": "python",
   "name": "python3"
  },
  "language_info": {
   "codemirror_mode": {
    "name": "ipython",
    "version": 3
   },
   "file_extension": ".py",
   "mimetype": "text/x-python",
   "name": "python",
   "nbconvert_exporter": "python",
   "pygments_lexer": "ipython3",
   "version": "3.10.9"
  }
 },
 "nbformat": 4,
 "nbformat_minor": 5
}
